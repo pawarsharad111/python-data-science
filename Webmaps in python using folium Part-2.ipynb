{
 "cells": [
  {
   "cell_type": "markdown",
   "metadata": {},
   "source": [
    "# Webmaps in python using folium Part-2"
   ]
  },
  {
   "cell_type": "markdown",
   "metadata": {},
   "source": [
    "In this section, we are going to import a data which contains the latitudes,longitudes and a some more information about the volcanoes that hit USA till now. We shall try to visualise their locations by placing markers that display thier name."
   ]
  },
  {
   "cell_type": "markdown",
   "metadata": {},
   "source": [
    "#### Import the libraries"
   ]
  },
  {
   "cell_type": "code",
   "execution_count": 1,
   "metadata": {
    "collapsed": true
   },
   "outputs": [],
   "source": [
    "import folium\n",
    "import pandas as pd"
   ]
  },
  {
   "cell_type": "markdown",
   "metadata": {},
   "source": [
    "Make a map object for the MAp class which is present in folium library"
   ]
  },
  {
   "cell_type": "code",
   "execution_count": 16,
   "metadata": {
    "collapsed": true
   },
   "outputs": [],
   "source": [
    "mymap = folium.Map(location = [38.58,-119.09], zoom_start=6)"
   ]
  },
  {
   "cell_type": "markdown",
   "metadata": {},
   "source": [
    "Get the dataset adn ectract latitude, longitude and name in there respective lists."
   ]
  },
  {
   "cell_type": "code",
   "execution_count": 2,
   "metadata": {
    "collapsed": true
   },
   "outputs": [],
   "source": [
    "df = pd.read_csv(\"volcanoes.txt\")"
   ]
  },
  {
   "cell_type": "code",
   "execution_count": 5,
   "metadata": {},
   "outputs": [
    {
     "data": {
      "text/html": [
       "<div>\n",
       "<style>\n",
       "    .dataframe thead tr:only-child th {\n",
       "        text-align: right;\n",
       "    }\n",
       "\n",
       "    .dataframe thead th {\n",
       "        text-align: left;\n",
       "    }\n",
       "\n",
       "    .dataframe tbody tr th {\n",
       "        vertical-align: top;\n",
       "    }\n",
       "</style>\n",
       "<table border=\"1\" class=\"dataframe\">\n",
       "  <thead>\n",
       "    <tr style=\"text-align: right;\">\n",
       "      <th></th>\n",
       "      <th>VOLCANX020</th>\n",
       "      <th>NUMBER</th>\n",
       "      <th>NAME</th>\n",
       "      <th>LOCATION</th>\n",
       "      <th>STATUS</th>\n",
       "      <th>ELEV</th>\n",
       "      <th>TYPE</th>\n",
       "      <th>TIMEFRAME</th>\n",
       "      <th>LAT</th>\n",
       "      <th>LON</th>\n",
       "    </tr>\n",
       "  </thead>\n",
       "  <tbody>\n",
       "    <tr>\n",
       "      <th>0</th>\n",
       "      <td>509.0</td>\n",
       "      <td>1201-01=</td>\n",
       "      <td>Baker</td>\n",
       "      <td>US-Washington</td>\n",
       "      <td>Historical</td>\n",
       "      <td>3285.0</td>\n",
       "      <td>Stratovolcanoes</td>\n",
       "      <td>D3</td>\n",
       "      <td>48.776798</td>\n",
       "      <td>-121.810997</td>\n",
       "    </tr>\n",
       "    <tr>\n",
       "      <th>1</th>\n",
       "      <td>511.0</td>\n",
       "      <td>1201-02-</td>\n",
       "      <td>Glacier Peak</td>\n",
       "      <td>US-Washington</td>\n",
       "      <td>Tephrochronology</td>\n",
       "      <td>3213.0</td>\n",
       "      <td>Stratovolcano</td>\n",
       "      <td>D4</td>\n",
       "      <td>48.111801</td>\n",
       "      <td>-121.111000</td>\n",
       "    </tr>\n",
       "    <tr>\n",
       "      <th>2</th>\n",
       "      <td>513.0</td>\n",
       "      <td>1201-03-</td>\n",
       "      <td>Rainier</td>\n",
       "      <td>US-Washington</td>\n",
       "      <td>Dendrochronology</td>\n",
       "      <td>4392.0</td>\n",
       "      <td>Stratovolcano</td>\n",
       "      <td>D3</td>\n",
       "      <td>46.869801</td>\n",
       "      <td>-121.751000</td>\n",
       "    </tr>\n",
       "    <tr>\n",
       "      <th>3</th>\n",
       "      <td>515.0</td>\n",
       "      <td>1201-05-</td>\n",
       "      <td>St. Helens</td>\n",
       "      <td>US-Washington</td>\n",
       "      <td>Historical</td>\n",
       "      <td>2549.0</td>\n",
       "      <td>Stratovolcano</td>\n",
       "      <td>D1</td>\n",
       "      <td>46.199799</td>\n",
       "      <td>-122.181000</td>\n",
       "    </tr>\n",
       "    <tr>\n",
       "      <th>4</th>\n",
       "      <td>516.0</td>\n",
       "      <td>1201-04-</td>\n",
       "      <td>Adams</td>\n",
       "      <td>US-Washington</td>\n",
       "      <td>Tephrochronology</td>\n",
       "      <td>3742.0</td>\n",
       "      <td>Stratovolcano</td>\n",
       "      <td>D6</td>\n",
       "      <td>46.205799</td>\n",
       "      <td>-121.490997</td>\n",
       "    </tr>\n",
       "  </tbody>\n",
       "</table>\n",
       "</div>"
      ],
      "text/plain": [
       "   VOLCANX020    NUMBER          NAME       LOCATION            STATUS  \\\n",
       "0       509.0  1201-01=         Baker  US-Washington        Historical   \n",
       "1       511.0  1201-02-  Glacier Peak  US-Washington  Tephrochronology   \n",
       "2       513.0  1201-03-       Rainier  US-Washington  Dendrochronology   \n",
       "3       515.0  1201-05-    St. Helens  US-Washington        Historical   \n",
       "4       516.0  1201-04-         Adams  US-Washington  Tephrochronology   \n",
       "\n",
       "     ELEV             TYPE TIMEFRAME        LAT         LON  \n",
       "0  3285.0  Stratovolcanoes        D3  48.776798 -121.810997  \n",
       "1  3213.0    Stratovolcano        D4  48.111801 -121.111000  \n",
       "2  4392.0    Stratovolcano        D3  46.869801 -121.751000  \n",
       "3  2549.0    Stratovolcano        D1  46.199799 -122.181000  \n",
       "4  3742.0    Stratovolcano        D6  46.205799 -121.490997  "
      ]
     },
     "execution_count": 5,
     "metadata": {},
     "output_type": "execute_result"
    }
   ],
   "source": [
    "df.head()"
   ]
  },
  {
   "cell_type": "code",
   "execution_count": 6,
   "metadata": {
    "collapsed": true
   },
   "outputs": [],
   "source": [
    "df = pd.read_csv(\"volcanoes.txt\")\n",
    "lat = list(df['LAT'])\n",
    "lon = list(df['LON'])\n",
    "elev = list(df['ELEV'])"
   ]
  },
  {
   "cell_type": "markdown",
   "metadata": {},
   "source": [
    "We will now create a feauture Group to add markers using a for loops on the lists we mamde."
   ]
  },
  {
   "cell_type": "code",
   "execution_count": 7,
   "metadata": {
    "collapsed": true
   },
   "outputs": [],
   "source": [
    "mymap4 = folium.Map()\n",
    "fg = folium.FeatureGroup(name=\" my map\")\n",
    "\n",
    "for lt,ln,el in zip(lat,lon,elev):\n",
    "    fg.add_child(folium.Marker(location=[lt,ln],popup=str(el)))\n",
    "\n",
    "mymap4.add_child((fg))\n",
    "\n",
    "mymap4.save(\"Markersfromfile.html\")"
   ]
  },
  {
   "cell_type": "markdown",
   "metadata": {},
   "source": [
    "Great Job!"
   ]
  }
 ],
 "metadata": {
  "kernelspec": {
   "display_name": "Python 3",
   "language": "python",
   "name": "python3"
  },
  "language_info": {
   "codemirror_mode": {
    "name": "ipython",
    "version": 3
   },
   "file_extension": ".py",
   "mimetype": "text/x-python",
   "name": "python",
   "nbconvert_exporter": "python",
   "pygments_lexer": "ipython3",
   "version": "3.7.1"
  }
 },
 "nbformat": 4,
 "nbformat_minor": 2
}
