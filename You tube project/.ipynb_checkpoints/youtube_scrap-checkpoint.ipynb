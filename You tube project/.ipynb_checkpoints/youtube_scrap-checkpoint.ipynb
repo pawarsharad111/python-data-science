{
 "cells": [
  {
   "cell_type": "markdown",
   "metadata": {},
   "source": [
    "## Web Scrapping"
   ]
  },
  {
   "cell_type": "markdown",
   "metadata": {},
   "source": [
    "### Reading the unique_id json and fetching video_title and channel_id by beautiful soup"
   ]
  },
  {
   "cell_type": "code",
   "execution_count": 1,
   "metadata": {},
   "outputs": [
    {
     "name": "stdout",
     "output_type": "stream",
     "text": [
      "1\n",
      "Added UCTz52Ejh_iYWuV-BnYpTFtw and рдХреЛрдИ рднреА рдЧрд╛рдирд╛ рдорд╛рддреНрд░ 2 рдорд┐рдирдЯ рдореЗрдВ рд╣рд╛рд░рдореЛрдирд┐рдпрдо рдкрд░ рдирд┐рдХрд▓рдирд╛ рд╕реАрдЦреЗ\n",
      "2\n",
      "Added UCIsEhwBMPkRHsEgqYAPQHsA and Praggnanandhaa vs Vishy Anand | Tata Steel Chess India Blitz 2018\n",
      "3\n",
      "Added UCD2GdZBCsUa0TIssLai6Skw and MOST UNIQUE INSTRUMENT AUDITIONS On Got Talent! | Top Talent\n",
      "4\n",
      "Added UCQqg0i_Ezuho9LQmKm-eaOA and O SHANTHI RE TERE BINA BHI KYA JEENA BY JUNOON\n",
      "5\n",
      "Added UC295-Dw_tDNtZXFeAPAW6Aw and 27 EASY MAGIC TRICKS\n",
      "6\n",
      "Added UC4Tj7HK42Y8CV7oap6LSTzw and Aamar parake\n",
      "7\n",
      "Added UCAaX9NjMCos_Qwz3n41eUgg and André Rieu & 3 year old Akim Camara\n",
      "8\n",
      "Added UCJ4-vqb5KyJyh2ZSP0-3VpQ and PATRI SATISH KUMAR WITH USTAD ZAKIR HUSSAIN\n",
      "9\n",
      "Added UC9H-1XpS80tlx5F1Orz0mag and Ek Chaturnaar by Rahul Deb | Indian Idol Best Audition | Sonu | Padosan | Sunil Dutt, Kishore Kumar\n",
      "10\n",
      "sleep for 11\n",
      "Added UCq2fkwHUdOzqOmMsUaY0F0Q and Nagada Sang Dhol - Instrumental by JT\n",
      "11\n",
      "Added UCFqFwDcUVzuJ-jQcRkWhIuQ and Tabla Making in Kolkata\n",
      "12\n",
      "Added UCBsJjLDebFWkokzKvJXDckA and Raavan Hatha\n",
      "13\n",
      "Added UCZbs_Oloyd9tuJD3coxAbCQ and рдирд╛рдЧрд┐рди рдзреБрди рдмрдЬрд╛рдИрдпреЗ рдЕрд▓рдЧ рдЕрджрд╛рдВрдЬ рдореЗрдВ | Ek pardesi mera dil le gaya learn on different style on keyboard\n",
      "14\n",
      "Added UCXXnwJW6WTK2b3i3p6GLaPw and Youngest Magician Finalist | Collins Key | America's Got Talent | Magicians Got Talent\n",
      "15\n",
      "Added UCDcPGg8sHyz5-eJSTtNpGyA and Learn Dholak - part 1 and part 2 Basic Steps\n",
      "16\n",
      "Added UC-NemIoo1F1bf8ObCiKF6WQ and संगीत सीखने वाले लोग ये वीडियो ज़रूर देखें (100% गारंटी से सीखें) No one will tell this\n",
      "17\n",
      "Added UCIsEhwBMPkRHsEgqYAPQHsA and Praggnanandhaa vs Ganguly | Tata Steel Chess India Blitz 2018\n",
      "18\n",
      "Added UC-OD_gFub9r7Z31hr4Wn5wQ and Chogada   |    Loveyatri\n",
      "19\n",
      "Added UCdi7kCfwFbTwM2S93WPIAIg and nagada sang dhol baje on keyboard yamha psr i455\n",
      "20\n",
      "sleep for 7\n",
      "Added UCXKgRz-lEdSst7Y1AHZc5GQ and Cube banana sikho asani se in hindi and English\n",
      "21\n",
      "Added UC_DmCvOP5Q_eBMRDvqqRXjg and Piano Finger Speed Exercises\n",
      "22\n",
      "Added UCs56ffejFhWlCvlvRIdpb9Q and Queen | Gujariya | Making | Kangana Ranaut | 7th Mar, 2014\n",
      "23\n",
      "Added UCTz52Ejh_iYWuV-BnYpTFtw and рдирд╛рдЧрд┐рди рдзреБрди\n",
      "24\n",
      "Added UC-NemIoo1F1bf8ObCiKF6WQ and तो इस तरीके से 100% होगी सुरों की समझ (एक बार ज़रूर देखें ये ज़बरदस्त Idea)\n",
      "25\n",
      "Added UCqixB2KtBsYrFQa8bhyJC0Q and Hungama Hogaya Queen\n",
      "26\n",
      "Added UCxfmKwtO1bGoQh-ZQJY_0sg and Hand Dholak octapad spd-30 By Herun Prasad Delhi India\n",
      "27\n",
      "Added UCZUrA0Mjbjtd-lhrT4Eapyg and Madari (Bass Cover) - Coke Studio - Vishal Dadlani\n",
      "28\n",
      "Added UC4zrEBhLU0RVZgfg9a5wuyQ and THUJE DEKA\n",
      "29\n",
      "Added UCWfDhW9KCRyD9ftH1hTgZ9A and Unboxing of New Harmonium by Ayushi Banka\n",
      "30\n",
      "sleep for 4\n",
      "Added UCJhvzsRo8W-pSHpjpXfEPSw and Birthday Song Turorial On Piano With Notations\n",
      "31\n",
      "Added UC-OD_gFub9r7Z31hr4Wn5wQ and Ijazat   |   One Night Stand\n",
      "32\n",
      "Added UC4zrEBhLU0RVZgfg9a5wuyQ and Muje needana Aye\n",
      "33\n"
     ]
    },
    {
     "ename": "IndexError",
     "evalue": "list index out of range",
     "output_type": "error",
     "traceback": [
      "\u001b[0;31m---------------------------------------------------------------------------\u001b[0m",
      "\u001b[0;31mIndexError\u001b[0m                                Traceback (most recent call last)",
      "\u001b[0;32m<ipython-input-1-cdfb29f775e6>\u001b[0m in \u001b[0;36m<module>\u001b[0;34m\u001b[0m\n\u001b[1;32m     20\u001b[0m \u001b[0;34m\u001b[0m\u001b[0m\n\u001b[1;32m     21\u001b[0m     \u001b[0mtitle\u001b[0m \u001b[0;34m=\u001b[0m \u001b[0msoupeddata\u001b[0m\u001b[0;34m.\u001b[0m\u001b[0mfind_all\u001b[0m\u001b[0;34m(\u001b[0m\u001b[0;34m'h1'\u001b[0m\u001b[0;34m,\u001b[0m \u001b[0mclass_\u001b[0m\u001b[0;34m=\u001b[0m\u001b[0;34m\"watch-title-container\"\u001b[0m\u001b[0;34m)\u001b[0m\u001b[0;34m\u001b[0m\u001b[0;34m\u001b[0m\u001b[0m\n\u001b[0;32m---> 22\u001b[0;31m     \u001b[0mtitle\u001b[0m \u001b[0;34m=\u001b[0m \u001b[0mtitle\u001b[0m\u001b[0;34m[\u001b[0m\u001b[0;36m0\u001b[0m\u001b[0;34m]\u001b[0m\u001b[0;34m.\u001b[0m\u001b[0mtext\u001b[0m\u001b[0;34m\u001b[0m\u001b[0;34m\u001b[0m\u001b[0m\n\u001b[0m\u001b[1;32m     23\u001b[0m     \u001b[0mtitle\u001b[0m \u001b[0;34m=\u001b[0m  \u001b[0mtitle\u001b[0m\u001b[0;34m.\u001b[0m\u001b[0mrstrip\u001b[0m\u001b[0;34m(\u001b[0m\u001b[0;34m)\u001b[0m\u001b[0;34m\u001b[0m\u001b[0;34m\u001b[0m\u001b[0m\n\u001b[1;32m     24\u001b[0m     \u001b[0mtitle\u001b[0m \u001b[0;34m=\u001b[0m \u001b[0mtitle\u001b[0m\u001b[0;34m.\u001b[0m\u001b[0mlstrip\u001b[0m\u001b[0;34m(\u001b[0m\u001b[0;34m)\u001b[0m\u001b[0;34m\u001b[0m\u001b[0;34m\u001b[0m\u001b[0m\n",
      "\u001b[0;31mIndexError\u001b[0m: list index out of range"
     ]
    }
   ],
   "source": [
    "import requests\n",
    "from bs4 import BeautifulSoup\n",
    "import json\n",
    "import time\n",
    "import random\n",
    "\n",
    "data = json.load(open(\"id_data.json\"))\n",
    "\n",
    "\n",
    "a = 1\n",
    "for i in data.keys():    \n",
    "    print(a)\n",
    "    scrape_url=\"https://www.youtube.com\"\n",
    "    search_url=\"/watch?v=\"\n",
    "    search_hardcode = i\n",
    "    sb_url = scrape_url + search_url + search_hardcode\n",
    "\n",
    "    sb_get = requests.get(sb_url)\n",
    "    soupeddata = BeautifulSoup(sb_get.content, \"html.parser\")\n",
    "\n",
    "    title = soupeddata.find_all('h1', class_=\"watch-title-container\")\n",
    "    title = title[0].text\n",
    "    title =  title.rstrip()\n",
    "    title = title.lstrip()\n",
    "    data[i]['video_title'] = title\n",
    "\n",
    "    cid = soupeddata.findAll('a', class_ = 'yt-uix-sessionlink spf-link ' )\n",
    "    cid = cid[0]['href'].split('/')[-1]\n",
    "    data[i]['channel_id'] = cid\n",
    "    \n",
    "    del data[i]['rc_video_duration']\n",
    "    del data[i]['timestamp']\n",
    "    del data[i]['rc_thumb']\n",
    "    \n",
    "    if a%10 == 0:\n",
    "        n = random.randint(1,20)\n",
    "        time.sleep(n)\n",
    "        print(f'sleep for {n}')\n",
    "    \n",
    "    a = a+1\n",
    "    \n",
    "    print(f'Added {cid} and {title}')"
   ]
  },
  {
   "cell_type": "code",
   "execution_count": null,
   "metadata": {},
   "outputs": [],
   "source": []
  }
 ],
 "metadata": {
  "kernelspec": {
   "display_name": "Python 3",
   "language": "python",
   "name": "python3"
  },
  "language_info": {
   "codemirror_mode": {
    "name": "ipython",
    "version": 3
   },
   "file_extension": ".py",
   "mimetype": "text/x-python",
   "name": "python",
   "nbconvert_exporter": "python",
   "pygments_lexer": "ipython3",
   "version": "3.7.0"
  }
 },
 "nbformat": 4,
 "nbformat_minor": 2
}
