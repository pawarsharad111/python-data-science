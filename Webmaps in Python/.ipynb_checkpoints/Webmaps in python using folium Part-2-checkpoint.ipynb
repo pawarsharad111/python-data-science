{
 "cells": [
  {
   "cell_type": "markdown",
   "metadata": {},
   "source": [
    "# Webmaps in python using folium Part-2"
   ]
  },
  {
   "cell_type": "markdown",
   "metadata": {},
   "source": [
    "In this section, we are going to import a data which contains the latitudes,longitudes and a some more information about the volcanoes that hit USA till now. We shall try to visualise their locations by placing markers that display thier name."
   ]
  },
  {
   "cell_type": "markdown",
   "metadata": {},
   "source": [
    "#### Import the libraries"
   ]
  },
  {
   "cell_type": "code",
   "execution_count": 15,
   "metadata": {
    "collapsed": true
   },
   "outputs": [],
   "source": [
    "import folium\n",
    "import pandas as pd"
   ]
  },
  {
   "cell_type": "markdown",
   "metadata": {},
   "source": [
    "Make a map object for the MAp class which is present in folium library"
   ]
  },
  {
   "cell_type": "code",
   "execution_count": 16,
   "metadata": {
    "collapsed": true
   },
   "outputs": [],
   "source": [
    "mymap = folium.Map(location = [38.58,-119.09], zoom_start=6)"
   ]
  },
  {
   "cell_type": "markdown",
   "metadata": {},
   "source": [
    "Get the dataset adn ectract latitude, longitude and name in there respective lists."
   ]
  },
  {
   "cell_type": "code",
   "execution_count": 17,
   "metadata": {
    "collapsed": true
   },
   "outputs": [],
   "source": [
    "df = pd.read_csv(\"volcanoes.txt\")\n",
    "lat = list(df['LAT'])\n",
    "lon = list(df['LON'])\n",
    "elev = list(df['ELEV'])"
   ]
  },
  {
   "cell_type": "markdown",
   "metadata": {},
   "source": [
    "We will now create a feauture Group to add markers using a for loops on the lists we mamde."
   ]
  },
  {
   "cell_type": "code",
   "execution_count": 18,
   "metadata": {
    "collapsed": true
   },
   "outputs": [],
   "source": [
    "fg = folium.FeatureGroup(name=\" my map\")\n",
    "\n",
    "for lt,ln,el in zip(lat,lon,elev):\n",
    "    fg.add_child(folium.Marker(location=[lt,ln],popup=str(el), icon = folium.Icon(color=\"red\")))\n",
    "\n",
    "mymap.add_child((fg))\n",
    "\n",
    "mymap.save(\"Markersfromfile.html\")"
   ]
  },
  {
   "cell_type": "markdown",
   "metadata": {},
   "source": [
    "Great Job!"
   ]
  }
 ],
 "metadata": {
  "kernelspec": {
   "display_name": "Python 3",
   "language": "python",
   "name": "python3"
  },
  "language_info": {
   "codemirror_mode": {
    "name": "ipython",
    "version": 3
   },
   "file_extension": ".py",
   "mimetype": "text/x-python",
   "name": "python",
   "nbconvert_exporter": "python",
   "pygments_lexer": "ipython3",
   "version": "3.6.1"
  }
 },
 "nbformat": 4,
 "nbformat_minor": 2
}
